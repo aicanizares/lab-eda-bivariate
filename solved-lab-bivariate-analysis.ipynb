{
 "cells": [
  {
   "cell_type": "code",
   "execution_count": 6,
   "id": "9afbfa8a-4adf-4de5-84dd-cfba196d9a2f",
   "metadata": {},
   "outputs": [],
   "source": [
    "# 1.1.1. Crosstab Analysis: Create a crosstab between the product category and the isBestSeller status.\n",
    "\n",
    "import pandas as pd\n",
    "import matplotlib.pyplot as plt\n",
    "import seaborn as sns\n",
    "import numpy as np"
   ]
  },
  {
   "cell_type": "code",
   "execution_count": 7,
   "id": "e4b27b9e-4e8f-4814-8586-9c3d5f303792",
   "metadata": {},
   "outputs": [],
   "source": [
    "df = pd.read_csv(\"C:\\\\Users\\\\aican\\\\2025-Ironhack\\\\Unit5-2025-CW19-20\\\\Unit5-D1-2025-05-09\\\\amz_uk_price_prediction_dataset.csv\")"
   ]
  },
  {
   "cell_type": "code",
   "execution_count": 8,
   "id": "3a60948e-19eb-4660-b8a2-d1d7cada079e",
   "metadata": {},
   "outputs": [
    {
     "data": {
      "text/html": [
       "<div>\n",
       "<style scoped>\n",
       "    .dataframe tbody tr th:only-of-type {\n",
       "        vertical-align: middle;\n",
       "    }\n",
       "\n",
       "    .dataframe tbody tr th {\n",
       "        vertical-align: top;\n",
       "    }\n",
       "\n",
       "    .dataframe thead th {\n",
       "        text-align: right;\n",
       "    }\n",
       "</style>\n",
       "<table border=\"1\" class=\"dataframe\">\n",
       "  <thead>\n",
       "    <tr style=\"text-align: right;\">\n",
       "      <th></th>\n",
       "      <th>uid</th>\n",
       "      <th>asin</th>\n",
       "      <th>title</th>\n",
       "      <th>stars</th>\n",
       "      <th>reviews</th>\n",
       "      <th>price</th>\n",
       "      <th>isBestSeller</th>\n",
       "      <th>boughtInLastMonth</th>\n",
       "      <th>category</th>\n",
       "    </tr>\n",
       "  </thead>\n",
       "  <tbody>\n",
       "    <tr>\n",
       "      <th>0</th>\n",
       "      <td>1</td>\n",
       "      <td>B09B96TG33</td>\n",
       "      <td>Echo Dot (5th generation, 2022 release) | Big ...</td>\n",
       "      <td>4.7</td>\n",
       "      <td>15308</td>\n",
       "      <td>21.99</td>\n",
       "      <td>False</td>\n",
       "      <td>0</td>\n",
       "      <td>Hi-Fi Speakers</td>\n",
       "    </tr>\n",
       "    <tr>\n",
       "      <th>1</th>\n",
       "      <td>2</td>\n",
       "      <td>B01HTH3C8S</td>\n",
       "      <td>Anker Soundcore mini, Super-Portable Bluetooth...</td>\n",
       "      <td>4.7</td>\n",
       "      <td>98099</td>\n",
       "      <td>23.99</td>\n",
       "      <td>True</td>\n",
       "      <td>0</td>\n",
       "      <td>Hi-Fi Speakers</td>\n",
       "    </tr>\n",
       "    <tr>\n",
       "      <th>2</th>\n",
       "      <td>3</td>\n",
       "      <td>B09B8YWXDF</td>\n",
       "      <td>Echo Dot (5th generation, 2022 release) | Big ...</td>\n",
       "      <td>4.7</td>\n",
       "      <td>15308</td>\n",
       "      <td>21.99</td>\n",
       "      <td>False</td>\n",
       "      <td>0</td>\n",
       "      <td>Hi-Fi Speakers</td>\n",
       "    </tr>\n",
       "    <tr>\n",
       "      <th>3</th>\n",
       "      <td>4</td>\n",
       "      <td>B09B8T5VGV</td>\n",
       "      <td>Echo Dot with clock (5th generation, 2022 rele...</td>\n",
       "      <td>4.7</td>\n",
       "      <td>7205</td>\n",
       "      <td>31.99</td>\n",
       "      <td>False</td>\n",
       "      <td>0</td>\n",
       "      <td>Hi-Fi Speakers</td>\n",
       "    </tr>\n",
       "    <tr>\n",
       "      <th>4</th>\n",
       "      <td>5</td>\n",
       "      <td>B09WX6QD65</td>\n",
       "      <td>Introducing Echo Pop | Full sound compact Wi-F...</td>\n",
       "      <td>4.6</td>\n",
       "      <td>1881</td>\n",
       "      <td>17.99</td>\n",
       "      <td>False</td>\n",
       "      <td>0</td>\n",
       "      <td>Hi-Fi Speakers</td>\n",
       "    </tr>\n",
       "    <tr>\n",
       "      <th>...</th>\n",
       "      <td>...</td>\n",
       "      <td>...</td>\n",
       "      <td>...</td>\n",
       "      <td>...</td>\n",
       "      <td>...</td>\n",
       "      <td>...</td>\n",
       "      <td>...</td>\n",
       "      <td>...</td>\n",
       "      <td>...</td>\n",
       "    </tr>\n",
       "    <tr>\n",
       "      <th>2443646</th>\n",
       "      <td>2828589</td>\n",
       "      <td>B0CHSD7P2Q</td>\n",
       "      <td>Motorbike Armour, Motorbike Clothing, Cycling ...</td>\n",
       "      <td>0.0</td>\n",
       "      <td>0</td>\n",
       "      <td>22.34</td>\n",
       "      <td>False</td>\n",
       "      <td>0</td>\n",
       "      <td>Motorbike Clothing</td>\n",
       "    </tr>\n",
       "    <tr>\n",
       "      <th>2443647</th>\n",
       "      <td>2828590</td>\n",
       "      <td>B0B7B8FNBQ</td>\n",
       "      <td>PROFIRST Waterproof Motorcycle 2 Piece Ladies ...</td>\n",
       "      <td>0.0</td>\n",
       "      <td>0</td>\n",
       "      <td>97.99</td>\n",
       "      <td>False</td>\n",
       "      <td>0</td>\n",
       "      <td>Motorbike Clothing</td>\n",
       "    </tr>\n",
       "    <tr>\n",
       "      <th>2443648</th>\n",
       "      <td>2828591</td>\n",
       "      <td>B0BD5FL5FB</td>\n",
       "      <td>Men’s Motorcycle Motorbike Biker Trousers Kevl...</td>\n",
       "      <td>0.0</td>\n",
       "      <td>0</td>\n",
       "      <td>52.99</td>\n",
       "      <td>False</td>\n",
       "      <td>0</td>\n",
       "      <td>Motorbike Clothing</td>\n",
       "    </tr>\n",
       "    <tr>\n",
       "      <th>2443649</th>\n",
       "      <td>2828592</td>\n",
       "      <td>B008OYLL4I</td>\n",
       "      <td>Texpeed Mens Motorcycle Motorbike Biker Trouse...</td>\n",
       "      <td>4.3</td>\n",
       "      <td>404</td>\n",
       "      <td>79.99</td>\n",
       "      <td>False</td>\n",
       "      <td>0</td>\n",
       "      <td>Motorbike Clothing</td>\n",
       "    </tr>\n",
       "    <tr>\n",
       "      <th>2443650</th>\n",
       "      <td>2828593</td>\n",
       "      <td>B08P3W9B3T</td>\n",
       "      <td>RIDEX CJ223 Motorcycle Motorbike Jacket Armour...</td>\n",
       "      <td>4.5</td>\n",
       "      <td>34</td>\n",
       "      <td>53.99</td>\n",
       "      <td>False</td>\n",
       "      <td>0</td>\n",
       "      <td>Motorbike Clothing</td>\n",
       "    </tr>\n",
       "  </tbody>\n",
       "</table>\n",
       "<p>2443651 rows × 9 columns</p>\n",
       "</div>"
      ],
      "text/plain": [
       "             uid        asin  \\\n",
       "0              1  B09B96TG33   \n",
       "1              2  B01HTH3C8S   \n",
       "2              3  B09B8YWXDF   \n",
       "3              4  B09B8T5VGV   \n",
       "4              5  B09WX6QD65   \n",
       "...          ...         ...   \n",
       "2443646  2828589  B0CHSD7P2Q   \n",
       "2443647  2828590  B0B7B8FNBQ   \n",
       "2443648  2828591  B0BD5FL5FB   \n",
       "2443649  2828592  B008OYLL4I   \n",
       "2443650  2828593  B08P3W9B3T   \n",
       "\n",
       "                                                     title  stars  reviews  \\\n",
       "0        Echo Dot (5th generation, 2022 release) | Big ...    4.7    15308   \n",
       "1        Anker Soundcore mini, Super-Portable Bluetooth...    4.7    98099   \n",
       "2        Echo Dot (5th generation, 2022 release) | Big ...    4.7    15308   \n",
       "3        Echo Dot with clock (5th generation, 2022 rele...    4.7     7205   \n",
       "4        Introducing Echo Pop | Full sound compact Wi-F...    4.6     1881   \n",
       "...                                                    ...    ...      ...   \n",
       "2443646  Motorbike Armour, Motorbike Clothing, Cycling ...    0.0        0   \n",
       "2443647  PROFIRST Waterproof Motorcycle 2 Piece Ladies ...    0.0        0   \n",
       "2443648  Men’s Motorcycle Motorbike Biker Trousers Kevl...    0.0        0   \n",
       "2443649  Texpeed Mens Motorcycle Motorbike Biker Trouse...    4.3      404   \n",
       "2443650  RIDEX CJ223 Motorcycle Motorbike Jacket Armour...    4.5       34   \n",
       "\n",
       "         price  isBestSeller  boughtInLastMonth            category  \n",
       "0        21.99         False                  0      Hi-Fi Speakers  \n",
       "1        23.99          True                  0      Hi-Fi Speakers  \n",
       "2        21.99         False                  0      Hi-Fi Speakers  \n",
       "3        31.99         False                  0      Hi-Fi Speakers  \n",
       "4        17.99         False                  0      Hi-Fi Speakers  \n",
       "...        ...           ...                ...                 ...  \n",
       "2443646  22.34         False                  0  Motorbike Clothing  \n",
       "2443647  97.99         False                  0  Motorbike Clothing  \n",
       "2443648  52.99         False                  0  Motorbike Clothing  \n",
       "2443649  79.99         False                  0  Motorbike Clothing  \n",
       "2443650  53.99         False                  0  Motorbike Clothing  \n",
       "\n",
       "[2443651 rows x 9 columns]"
      ]
     },
     "execution_count": 8,
     "metadata": {},
     "output_type": "execute_result"
    }
   ],
   "source": [
    "df"
   ]
  },
  {
   "cell_type": "code",
   "execution_count": 9,
   "id": "33232c73-d34a-473c-a3ca-5eaeba7b7ca9",
   "metadata": {},
   "outputs": [
    {
     "data": {
      "text/plain": [
       "Index(['uid', 'asin', 'title', 'stars', 'reviews', 'price', 'isBestSeller',\n",
       "       'boughtInLastMonth', 'category'],\n",
       "      dtype='object')"
      ]
     },
     "execution_count": 9,
     "metadata": {},
     "output_type": "execute_result"
    }
   ],
   "source": [
    "df.columns"
   ]
  },
  {
   "cell_type": "code",
   "execution_count": 10,
   "id": "e71ce4c4-83c8-49b7-a6ee-dd1e60b8d681",
   "metadata": {},
   "outputs": [
    {
     "data": {
      "text/html": [
       "<div>\n",
       "<style scoped>\n",
       "    .dataframe tbody tr th:only-of-type {\n",
       "        vertical-align: middle;\n",
       "    }\n",
       "\n",
       "    .dataframe tbody tr th {\n",
       "        vertical-align: top;\n",
       "    }\n",
       "\n",
       "    .dataframe thead th {\n",
       "        text-align: right;\n",
       "    }\n",
       "</style>\n",
       "<table border=\"1\" class=\"dataframe\">\n",
       "  <thead>\n",
       "    <tr style=\"text-align: right;\">\n",
       "      <th>isBestSeller</th>\n",
       "      <th>False</th>\n",
       "      <th>True</th>\n",
       "    </tr>\n",
       "    <tr>\n",
       "      <th>category</th>\n",
       "      <th></th>\n",
       "      <th></th>\n",
       "    </tr>\n",
       "  </thead>\n",
       "  <tbody>\n",
       "    <tr>\n",
       "      <th>3D Printers</th>\n",
       "      <td>247</td>\n",
       "      <td>1</td>\n",
       "    </tr>\n",
       "    <tr>\n",
       "      <th>3D Printing &amp; Scanning</th>\n",
       "      <td>4065</td>\n",
       "      <td>2</td>\n",
       "    </tr>\n",
       "    <tr>\n",
       "      <th>Abrasive &amp; Finishing Products</th>\n",
       "      <td>245</td>\n",
       "      <td>5</td>\n",
       "    </tr>\n",
       "    <tr>\n",
       "      <th>Action Cameras</th>\n",
       "      <td>1696</td>\n",
       "      <td>1</td>\n",
       "    </tr>\n",
       "    <tr>\n",
       "      <th>Adapters</th>\n",
       "      <td>251</td>\n",
       "      <td>3</td>\n",
       "    </tr>\n",
       "    <tr>\n",
       "      <th>...</th>\n",
       "      <td>...</td>\n",
       "      <td>...</td>\n",
       "    </tr>\n",
       "    <tr>\n",
       "      <th>Wind Instruments</th>\n",
       "      <td>243</td>\n",
       "      <td>7</td>\n",
       "    </tr>\n",
       "    <tr>\n",
       "      <th>Window Treatments</th>\n",
       "      <td>234</td>\n",
       "      <td>5</td>\n",
       "    </tr>\n",
       "    <tr>\n",
       "      <th>Women</th>\n",
       "      <td>17559</td>\n",
       "      <td>213</td>\n",
       "    </tr>\n",
       "    <tr>\n",
       "      <th>Women's Sports &amp; Outdoor Shoes</th>\n",
       "      <td>1939</td>\n",
       "      <td>20</td>\n",
       "    </tr>\n",
       "    <tr>\n",
       "      <th>eBook Readers &amp; Accessories</th>\n",
       "      <td>246</td>\n",
       "      <td>0</td>\n",
       "    </tr>\n",
       "  </tbody>\n",
       "</table>\n",
       "<p>296 rows × 2 columns</p>\n",
       "</div>"
      ],
      "text/plain": [
       "isBestSeller                    False  True \n",
       "category                                    \n",
       "3D Printers                       247      1\n",
       "3D Printing & Scanning           4065      2\n",
       "Abrasive & Finishing Products     245      5\n",
       "Action Cameras                   1696      1\n",
       "Adapters                          251      3\n",
       "...                               ...    ...\n",
       "Wind Instruments                  243      7\n",
       "Window Treatments                 234      5\n",
       "Women                           17559    213\n",
       "Women's Sports & Outdoor Shoes   1939     20\n",
       "eBook Readers & Accessories       246      0\n",
       "\n",
       "[296 rows x 2 columns]"
      ]
     },
     "execution_count": 10,
     "metadata": {},
     "output_type": "execute_result"
    }
   ],
   "source": [
    "%matplotlib inline\n",
    "\n",
    "crosstab_result = pd.crosstab(df['category'], df['isBestSeller'])\n",
    "\n",
    "crosstab_result"
   ]
  },
  {
   "cell_type": "code",
   "execution_count": 11,
   "id": "59be2a51-3813-4e53-9341-82c581443ec2",
   "metadata": {},
   "outputs": [
    {
     "data": {
      "text/html": [
       "<div>\n",
       "<style scoped>\n",
       "    .dataframe tbody tr th:only-of-type {\n",
       "        vertical-align: middle;\n",
       "    }\n",
       "\n",
       "    .dataframe tbody tr th {\n",
       "        vertical-align: top;\n",
       "    }\n",
       "\n",
       "    .dataframe thead th {\n",
       "        text-align: right;\n",
       "    }\n",
       "</style>\n",
       "<table border=\"1\" class=\"dataframe\">\n",
       "  <thead>\n",
       "    <tr style=\"text-align: right;\">\n",
       "      <th>category</th>\n",
       "      <th>3D Printers</th>\n",
       "      <th>3D Printing &amp; Scanning</th>\n",
       "      <th>Abrasive &amp; Finishing Products</th>\n",
       "      <th>Action Cameras</th>\n",
       "      <th>Adapters</th>\n",
       "      <th>Agricultural Equipment &amp; Supplies</th>\n",
       "      <th>Alexa Built-In Devices</th>\n",
       "      <th>Art &amp; Craft Supplies</th>\n",
       "      <th>Arts &amp; Crafts</th>\n",
       "      <th>Baby</th>\n",
       "      <th>...</th>\n",
       "      <th>Uninterruptible Power Supply Units &amp; Accessories</th>\n",
       "      <th>Vacuums &amp; Floorcare</th>\n",
       "      <th>Vases</th>\n",
       "      <th>Water Coolers, Filters &amp; Cartridges</th>\n",
       "      <th>Wearable Technology</th>\n",
       "      <th>Wind Instruments</th>\n",
       "      <th>Window Treatments</th>\n",
       "      <th>Women</th>\n",
       "      <th>Women's Sports &amp; Outdoor Shoes</th>\n",
       "      <th>eBook Readers &amp; Accessories</th>\n",
       "    </tr>\n",
       "    <tr>\n",
       "      <th>isBestSeller</th>\n",
       "      <th></th>\n",
       "      <th></th>\n",
       "      <th></th>\n",
       "      <th></th>\n",
       "      <th></th>\n",
       "      <th></th>\n",
       "      <th></th>\n",
       "      <th></th>\n",
       "      <th></th>\n",
       "      <th></th>\n",
       "      <th></th>\n",
       "      <th></th>\n",
       "      <th></th>\n",
       "      <th></th>\n",
       "      <th></th>\n",
       "      <th></th>\n",
       "      <th></th>\n",
       "      <th></th>\n",
       "      <th></th>\n",
       "      <th></th>\n",
       "      <th></th>\n",
       "    </tr>\n",
       "  </thead>\n",
       "  <tbody>\n",
       "    <tr>\n",
       "      <th>False</th>\n",
       "      <td>247</td>\n",
       "      <td>4065</td>\n",
       "      <td>245</td>\n",
       "      <td>1696</td>\n",
       "      <td>251</td>\n",
       "      <td>8421</td>\n",
       "      <td>106</td>\n",
       "      <td>253</td>\n",
       "      <td>9319</td>\n",
       "      <td>14709</td>\n",
       "      <td>...</td>\n",
       "      <td>3652</td>\n",
       "      <td>6919</td>\n",
       "      <td>250</td>\n",
       "      <td>186</td>\n",
       "      <td>8876</td>\n",
       "      <td>243</td>\n",
       "      <td>234</td>\n",
       "      <td>17559</td>\n",
       "      <td>1939</td>\n",
       "      <td>246</td>\n",
       "    </tr>\n",
       "    <tr>\n",
       "      <th>True</th>\n",
       "      <td>1</td>\n",
       "      <td>2</td>\n",
       "      <td>5</td>\n",
       "      <td>1</td>\n",
       "      <td>3</td>\n",
       "      <td>109</td>\n",
       "      <td>1</td>\n",
       "      <td>5</td>\n",
       "      <td>230</td>\n",
       "      <td>341</td>\n",
       "      <td>...</td>\n",
       "      <td>1</td>\n",
       "      <td>26</td>\n",
       "      <td>0</td>\n",
       "      <td>1</td>\n",
       "      <td>30</td>\n",
       "      <td>7</td>\n",
       "      <td>5</td>\n",
       "      <td>213</td>\n",
       "      <td>20</td>\n",
       "      <td>0</td>\n",
       "    </tr>\n",
       "  </tbody>\n",
       "</table>\n",
       "<p>2 rows × 296 columns</p>\n",
       "</div>"
      ],
      "text/plain": [
       "category      3D Printers  3D Printing & Scanning  \\\n",
       "isBestSeller                                        \n",
       "False                 247                    4065   \n",
       "True                    1                       2   \n",
       "\n",
       "category      Abrasive & Finishing Products  Action Cameras  Adapters  \\\n",
       "isBestSeller                                                            \n",
       "False                                   245            1696       251   \n",
       "True                                      5               1         3   \n",
       "\n",
       "category      Agricultural Equipment & Supplies  Alexa Built-In Devices  \\\n",
       "isBestSeller                                                              \n",
       "False                                      8421                     106   \n",
       "True                                        109                       1   \n",
       "\n",
       "category      Art & Craft Supplies  Arts & Crafts   Baby  ...  \\\n",
       "isBestSeller                                              ...   \n",
       "False                          253           9319  14709  ...   \n",
       "True                             5            230    341  ...   \n",
       "\n",
       "category      Uninterruptible Power Supply Units & Accessories  \\\n",
       "isBestSeller                                                     \n",
       "False                                                     3652   \n",
       "True                                                         1   \n",
       "\n",
       "category      Vacuums & Floorcare  Vases  Water Coolers, Filters & Cartridges  \\\n",
       "isBestSeller                                                                    \n",
       "False                        6919    250                                  186   \n",
       "True                           26      0                                    1   \n",
       "\n",
       "category      Wearable Technology  Wind Instruments  Window Treatments  Women  \\\n",
       "isBestSeller                                                                    \n",
       "False                        8876               243                234  17559   \n",
       "True                           30                 7                  5    213   \n",
       "\n",
       "category      Women's Sports & Outdoor Shoes  eBook Readers & Accessories  \n",
       "isBestSeller                                                               \n",
       "False                                   1939                          246  \n",
       "True                                      20                            0  \n",
       "\n",
       "[2 rows x 296 columns]"
      ]
     },
     "execution_count": 11,
     "metadata": {},
     "output_type": "execute_result"
    }
   ],
   "source": [
    "crosstab_result_2 = pd.crosstab(df['isBestSeller'], df['category'])\n",
    "crosstab_result_2"
   ]
  },
  {
   "cell_type": "code",
   "execution_count": 12,
   "id": "8a3a22ff-2432-4dfb-b5ca-f9b2dc5938bd",
   "metadata": {},
   "outputs": [],
   "source": [
    "# 1.1.2. Are there categories where being a best-seller is more prevalent?\n",
    "# For each category, calculate what percentage is best seller.\n",
    "# Sort categories from higher to lower percentage of is best seller true."
   ]
  },
  {
   "cell_type": "code",
   "execution_count": 13,
   "id": "9375d4ea-a4d4-448e-ba73-19af4a24ccd7",
   "metadata": {},
   "outputs": [],
   "source": [
    "grouped_by_cat_bestseller = df.groupby(\"category\")[\"isBestSeller\"]"
   ]
  },
  {
   "cell_type": "code",
   "execution_count": 14,
   "id": "d327daac-2ea2-4f1f-8634-3064fac8afe8",
   "metadata": {},
   "outputs": [
    {
     "name": "stdout",
     "output_type": "stream",
     "text": [
      "Index(['uid', 'asin', 'title', 'stars', 'reviews', 'price', 'isBestSeller',\n",
      "       'boughtInLastMonth', 'category'],\n",
      "      dtype='object')\n"
     ]
    }
   ],
   "source": [
    "print(df.columns)"
   ]
  },
  {
   "cell_type": "code",
   "execution_count": 15,
   "id": "6ae6b06d-4446-4ad7-906f-50748dbdfc8f",
   "metadata": {},
   "outputs": [],
   "source": [
    "# % of best sellers by cat\n",
    "category_percentages = grouped_by_cat_bestseller.mean() * 100"
   ]
  },
  {
   "cell_type": "code",
   "execution_count": 16,
   "id": "6e9a1ef6-6d96-43f9-9cf7-65a976ec8c9a",
   "metadata": {},
   "outputs": [
    {
     "data": {
      "text/plain": [
       "category\n",
       "3D Printers                       0.403226\n",
       "3D Printing & Scanning            0.049176\n",
       "Abrasive & Finishing Products     2.000000\n",
       "Action Cameras                    0.058928\n",
       "Adapters                          1.181102\n",
       "                                    ...   \n",
       "Wind Instruments                  2.800000\n",
       "Window Treatments                 2.092050\n",
       "Women                             1.198515\n",
       "Women's Sports & Outdoor Shoes    1.020929\n",
       "eBook Readers & Accessories       0.000000\n",
       "Name: isBestSeller, Length: 296, dtype: float64"
      ]
     },
     "execution_count": 16,
     "metadata": {},
     "output_type": "execute_result"
    }
   ],
   "source": [
    "category_percentages"
   ]
  },
  {
   "cell_type": "code",
   "execution_count": 17,
   "id": "446fc5ad-2916-439a-802f-2c8b2ae5c270",
   "metadata": {},
   "outputs": [
    {
     "data": {
      "text/plain": [
       "category\n",
       "Grocery                           5.813467\n",
       "Smart Home Security & Lighting    5.769231\n",
       "Health & Personal Care            5.768628\n",
       "Mobile Phone Accessories          4.247104\n",
       "Power & Hand Tools                3.533895\n",
       "Name: isBestSeller, dtype: float64"
      ]
     },
     "execution_count": 17,
     "metadata": {},
     "output_type": "execute_result"
    }
   ],
   "source": [
    "category_percentages = category_percentages.sort_values(ascending=False)\n",
    "\n",
    "category_percentages.head(5)"
   ]
  },
  {
   "cell_type": "code",
   "execution_count": 18,
   "id": "babcd543-cb10-46af-95d1-0ae7a7b42bfd",
   "metadata": {},
   "outputs": [],
   "source": [
    "top_5_categories = category_percentages.sort_values(ascending=False).head(5).index"
   ]
  },
  {
   "cell_type": "code",
   "execution_count": 19,
   "id": "e885f2dc-7fd1-4e57-82a1-07de916b6cb9",
   "metadata": {},
   "outputs": [],
   "source": [
    "# filter df top 5 cats.\n",
    "filtered_df = df[df[\"category\"].apply(lambda x: x in top_5_categories)]"
   ]
  },
  {
   "cell_type": "code",
   "execution_count": 20,
   "id": "7d464796-00c4-4640-8a34-fdf70aa9ba52",
   "metadata": {},
   "outputs": [
    {
     "data": {
      "text/html": [
       "<div>\n",
       "<style scoped>\n",
       "    .dataframe tbody tr th:only-of-type {\n",
       "        vertical-align: middle;\n",
       "    }\n",
       "\n",
       "    .dataframe tbody tr th {\n",
       "        vertical-align: top;\n",
       "    }\n",
       "\n",
       "    .dataframe thead th {\n",
       "        text-align: right;\n",
       "    }\n",
       "</style>\n",
       "<table border=\"1\" class=\"dataframe\">\n",
       "  <thead>\n",
       "    <tr style=\"text-align: right;\">\n",
       "      <th></th>\n",
       "      <th>uid</th>\n",
       "      <th>asin</th>\n",
       "      <th>title</th>\n",
       "      <th>stars</th>\n",
       "      <th>reviews</th>\n",
       "      <th>price</th>\n",
       "      <th>isBestSeller</th>\n",
       "      <th>boughtInLastMonth</th>\n",
       "      <th>category</th>\n",
       "    </tr>\n",
       "  </thead>\n",
       "  <tbody>\n",
       "    <tr>\n",
       "      <th>551902</th>\n",
       "      <td>594975</td>\n",
       "      <td>B07PZR3PVB</td>\n",
       "      <td>Apple AirPods with wired Charging Case (2nd ge...</td>\n",
       "      <td>4.7</td>\n",
       "      <td>154266</td>\n",
       "      <td>129.00</td>\n",
       "      <td>True</td>\n",
       "      <td>0</td>\n",
       "      <td>Mobile Phone Accessories</td>\n",
       "    </tr>\n",
       "    <tr>\n",
       "      <th>551903</th>\n",
       "      <td>594976</td>\n",
       "      <td>B0BCKHQGJN</td>\n",
       "      <td>Btootos Wireless Earbuds, Bluetooth 5.3 Headph...</td>\n",
       "      <td>4.5</td>\n",
       "      <td>20964</td>\n",
       "      <td>19.99</td>\n",
       "      <td>True</td>\n",
       "      <td>0</td>\n",
       "      <td>Mobile Phone Accessories</td>\n",
       "    </tr>\n",
       "    <tr>\n",
       "      <th>551904</th>\n",
       "      <td>594977</td>\n",
       "      <td>B0BHWFWJYY</td>\n",
       "      <td>Wireless Earbuds, Bluetooth 5.3 Headphones NEW...</td>\n",
       "      <td>4.6</td>\n",
       "      <td>4969</td>\n",
       "      <td>17.42</td>\n",
       "      <td>False</td>\n",
       "      <td>0</td>\n",
       "      <td>Mobile Phone Accessories</td>\n",
       "    </tr>\n",
       "    <tr>\n",
       "      <th>551905</th>\n",
       "      <td>594978</td>\n",
       "      <td>B0BDJ6QBTL</td>\n",
       "      <td>Apple AirPods (3rd generation) with Lightning ...</td>\n",
       "      <td>4.6</td>\n",
       "      <td>23608</td>\n",
       "      <td>169.00</td>\n",
       "      <td>False</td>\n",
       "      <td>0</td>\n",
       "      <td>Mobile Phone Accessories</td>\n",
       "    </tr>\n",
       "    <tr>\n",
       "      <th>551906</th>\n",
       "      <td>594979</td>\n",
       "      <td>B0BDJ37NF5</td>\n",
       "      <td>Apple AirPods Pro (2nd generation)</td>\n",
       "      <td>4.6</td>\n",
       "      <td>11264</td>\n",
       "      <td>229.00</td>\n",
       "      <td>False</td>\n",
       "      <td>0</td>\n",
       "      <td>Mobile Phone Accessories</td>\n",
       "    </tr>\n",
       "    <tr>\n",
       "      <th>...</th>\n",
       "      <td>...</td>\n",
       "      <td>...</td>\n",
       "      <td>...</td>\n",
       "      <td>...</td>\n",
       "      <td>...</td>\n",
       "      <td>...</td>\n",
       "      <td>...</td>\n",
       "      <td>...</td>\n",
       "      <td>...</td>\n",
       "    </tr>\n",
       "    <tr>\n",
       "      <th>2385372</th>\n",
       "      <td>2750689</td>\n",
       "      <td>B0BG28CRHC</td>\n",
       "      <td>Cordless Oscillating Multi Tool, 18V Brushless...</td>\n",
       "      <td>5.0</td>\n",
       "      <td>2</td>\n",
       "      <td>34.99</td>\n",
       "      <td>False</td>\n",
       "      <td>0</td>\n",
       "      <td>Power &amp; Hand Tools</td>\n",
       "    </tr>\n",
       "    <tr>\n",
       "      <th>2385373</th>\n",
       "      <td>2750690</td>\n",
       "      <td>B09YGX5K34</td>\n",
       "      <td>Hot Glue Gun,100W Full Size Glue Gun Kit with ...</td>\n",
       "      <td>4.6</td>\n",
       "      <td>1678</td>\n",
       "      <td>19.99</td>\n",
       "      <td>False</td>\n",
       "      <td>0</td>\n",
       "      <td>Power &amp; Hand Tools</td>\n",
       "    </tr>\n",
       "    <tr>\n",
       "      <th>2385374</th>\n",
       "      <td>2750691</td>\n",
       "      <td>B09JW8FLCQ</td>\n",
       "      <td>2 Pack Automatic Center Punch,Black Steel Spri...</td>\n",
       "      <td>4.0</td>\n",
       "      <td>152</td>\n",
       "      <td>5.89</td>\n",
       "      <td>False</td>\n",
       "      <td>0</td>\n",
       "      <td>Power &amp; Hand Tools</td>\n",
       "    </tr>\n",
       "    <tr>\n",
       "      <th>2397653</th>\n",
       "      <td>2767945</td>\n",
       "      <td>B07H7NFG7N</td>\n",
       "      <td>Ring Outdoor Camera Elite (Stick Up Cam) | HD ...</td>\n",
       "      <td>4.5</td>\n",
       "      <td>970</td>\n",
       "      <td>179.99</td>\n",
       "      <td>False</td>\n",
       "      <td>0</td>\n",
       "      <td>Smart Home Security &amp; Lighting</td>\n",
       "    </tr>\n",
       "    <tr>\n",
       "      <th>2397654</th>\n",
       "      <td>2767946</td>\n",
       "      <td>B0B65VJ2SL</td>\n",
       "      <td>Nuki Smart Lock 3.0 Pro for Euro Profile Cylin...</td>\n",
       "      <td>4.5</td>\n",
       "      <td>18</td>\n",
       "      <td>311.98</td>\n",
       "      <td>False</td>\n",
       "      <td>0</td>\n",
       "      <td>Smart Home Security &amp; Lighting</td>\n",
       "    </tr>\n",
       "  </tbody>\n",
       "</table>\n",
       "<p>28155 rows × 9 columns</p>\n",
       "</div>"
      ],
      "text/plain": [
       "             uid        asin  \\\n",
       "551902    594975  B07PZR3PVB   \n",
       "551903    594976  B0BCKHQGJN   \n",
       "551904    594977  B0BHWFWJYY   \n",
       "551905    594978  B0BDJ6QBTL   \n",
       "551906    594979  B0BDJ37NF5   \n",
       "...          ...         ...   \n",
       "2385372  2750689  B0BG28CRHC   \n",
       "2385373  2750690  B09YGX5K34   \n",
       "2385374  2750691  B09JW8FLCQ   \n",
       "2397653  2767945  B07H7NFG7N   \n",
       "2397654  2767946  B0B65VJ2SL   \n",
       "\n",
       "                                                     title  stars  reviews  \\\n",
       "551902   Apple AirPods with wired Charging Case (2nd ge...    4.7   154266   \n",
       "551903   Btootos Wireless Earbuds, Bluetooth 5.3 Headph...    4.5    20964   \n",
       "551904   Wireless Earbuds, Bluetooth 5.3 Headphones NEW...    4.6     4969   \n",
       "551905   Apple AirPods (3rd generation) with Lightning ...    4.6    23608   \n",
       "551906                  Apple AirPods Pro (2nd generation)    4.6    11264   \n",
       "...                                                    ...    ...      ...   \n",
       "2385372  Cordless Oscillating Multi Tool, 18V Brushless...    5.0        2   \n",
       "2385373  Hot Glue Gun,100W Full Size Glue Gun Kit with ...    4.6     1678   \n",
       "2385374  2 Pack Automatic Center Punch,Black Steel Spri...    4.0      152   \n",
       "2397653  Ring Outdoor Camera Elite (Stick Up Cam) | HD ...    4.5      970   \n",
       "2397654  Nuki Smart Lock 3.0 Pro for Euro Profile Cylin...    4.5       18   \n",
       "\n",
       "          price  isBestSeller  boughtInLastMonth  \\\n",
       "551902   129.00          True                  0   \n",
       "551903    19.99          True                  0   \n",
       "551904    17.42         False                  0   \n",
       "551905   169.00         False                  0   \n",
       "551906   229.00         False                  0   \n",
       "...         ...           ...                ...   \n",
       "2385372   34.99         False                  0   \n",
       "2385373   19.99         False                  0   \n",
       "2385374    5.89         False                  0   \n",
       "2397653  179.99         False                  0   \n",
       "2397654  311.98         False                  0   \n",
       "\n",
       "                               category  \n",
       "551902         Mobile Phone Accessories  \n",
       "551903         Mobile Phone Accessories  \n",
       "551904         Mobile Phone Accessories  \n",
       "551905         Mobile Phone Accessories  \n",
       "551906         Mobile Phone Accessories  \n",
       "...                                 ...  \n",
       "2385372              Power & Hand Tools  \n",
       "2385373              Power & Hand Tools  \n",
       "2385374              Power & Hand Tools  \n",
       "2397653  Smart Home Security & Lighting  \n",
       "2397654  Smart Home Security & Lighting  \n",
       "\n",
       "[28155 rows x 9 columns]"
      ]
     },
     "execution_count": 20,
     "metadata": {},
     "output_type": "execute_result"
    }
   ],
   "source": [
    "filtered_df"
   ]
  },
  {
   "cell_type": "code",
   "execution_count": 21,
   "id": "e64d45ca-981e-4134-8871-071448f028ce",
   "metadata": {},
   "outputs": [
    {
     "data": {
      "text/plain": [
       "category\n",
       "Grocery                             5.813467\n",
       "Smart Home Security & Lighting      5.769231\n",
       "Health & Personal Care              5.768628\n",
       "Mobile Phone Accessories            4.247104\n",
       "Power & Hand Tools                  3.533895\n",
       "                                      ...   \n",
       "CD, Disc & Tape Players             0.000000\n",
       "General Music-Making Accessories    0.000000\n",
       "Snowboard Boots                     0.000000\n",
       "Boxes & Organisers                  0.000000\n",
       "eBook Readers & Accessories         0.000000\n",
       "Name: isBestSeller, Length: 296, dtype: float64"
      ]
     },
     "execution_count": 21,
     "metadata": {},
     "output_type": "execute_result"
    }
   ],
   "source": [
    "category_percentages"
   ]
  },
  {
   "cell_type": "code",
   "execution_count": 22,
   "id": "25644cf6-174e-4d82-a07a-3a94ed32ac6a",
   "metadata": {},
   "outputs": [
    {
     "ename": "NameError",
     "evalue": "name 'category' is not defined",
     "output_type": "error",
     "traceback": [
      "\u001b[1;31m---------------------------------------------------------------------------\u001b[0m",
      "\u001b[1;31mNameError\u001b[0m                                 Traceback (most recent call last)",
      "Cell \u001b[1;32mIn[22], line 7\u001b[0m\n\u001b[0;32m      4\u001b[0m \u001b[38;5;66;03m# Chi-square test for 'category' and 'isBestSeller'\u001b[39;00m\n\u001b[0;32m      5\u001b[0m test_statistic, p_value, _, _ \u001b[38;5;241m=\u001b[39m chi2_contingency(crosstab_result)\n\u001b[1;32m----> 7\u001b[0m category, isBestSeller\n",
      "\u001b[1;31mNameError\u001b[0m: name 'category' is not defined"
     ]
    }
   ],
   "source": [
    "# 1.2.1. Statistical Tests: Conduct a Chi-square test to determine if the best-seller distribution is independent of the product category.\n",
    "from scipy.stats import chi2_contingency\n",
    "\n",
    "# Chi-square test for 'category' and 'isBestSeller'\n",
    "test_statistic, p_value, _, _ = chi2_contingency(crosstab_result)\n",
    "\n",
    "category, isBestSeller"
   ]
  },
  {
   "cell_type": "code",
   "execution_count": null,
   "id": "17913539-ee62-43d4-9afb-ce435b62fc39",
   "metadata": {},
   "outputs": [],
   "source": [
    "# P-value is very low at 0.0. Given the extremely low ( p )-value, we reject the null hypothesis.\n",
    "# This implies that there's a statistically significant association between 'category' and 'isBestSeller' in the dataset."
   ]
  },
  {
   "cell_type": "code",
   "execution_count": null,
   "id": "6c061472-9e90-448d-96c1-f5a9131b488d",
   "metadata": {},
   "outputs": [],
   "source": [
    "# 1.2.2. Compute Cramér's V to understand the strength of association between best-seller status and category.\n",
    "from scipy.stats.contingency import association\n",
    "\n",
    "# Computing the association between variables in 'crosstab_result' using the \"cramer\" method\n",
    "association(crosstab_result, method=\"cramer\")"
   ]
  },
  {
   "cell_type": "code",
   "execution_count": null,
   "id": "50730696-53c6-486e-8562-8deaba3a5053",
   "metadata": {},
   "outputs": [],
   "source": [
    "# The Cramér's V value of 0.12 suggests a weak association between the two variables.\n",
    "# Though statistically significant, the strength of this relationship is not very strong in practical terms."
   ]
  },
  {
   "cell_type": "code",
   "execution_count": null,
   "id": "88879085-15ed-4340-b52a-ceebed51e8c8",
   "metadata": {},
   "outputs": [],
   "source": [
    "# 1.3.1. Visualizations: Visualize the relationship between product categories and the best-seller status using a stacked bar chart.\n",
    "# Plotting a stacked bar chart for the 'crosstab_result' data"
   ]
  },
  {
   "cell_type": "code",
   "execution_count": null,
   "id": "1cf9d52f-cb0d-4df8-ba47-ac4ca5b6e752",
   "metadata": {},
   "outputs": [],
   "source": [
    "# stacked bar chart\n",
    "crosstab_result.plot(kind=\"bar\", stacked=True, figsize=(10, 6), colormap=\"coolwarm\")\n",
    "plt.xlabel(\"Category\")\n",
    "plt.ylabel(\"Count\")\n",
    "plt.title(\"Best-Seller Status Across Product Categories\")\n",
    "plt.legend(title=\"Is Best Seller\")\n",
    "plt.grid(axis=\"y\", linestyle=\"--\", alpha=0.5)\n",
    "\n",
    "plt.show()"
   ]
  },
  {
   "cell_type": "code",
   "execution_count": null,
   "id": "33d02d9b-99c7-4d1a-96df-f818c808bdc8",
   "metadata": {},
   "outputs": [],
   "source": [
    "# Filter crosstab, only top 5 cats.\n",
    "crosstab_result_top5 = crosstab_result.loc[top_5_categories]"
   ]
  },
  {
   "cell_type": "code",
   "execution_count": null,
   "id": "0a194406-b330-471c-b6c4-e4861fb91fa1",
   "metadata": {},
   "outputs": [],
   "source": [
    "# stacked bar chart\n",
    "crosstab_result_top5.plot(kind=\"bar\", stacked=True, figsize=(10, 6), colormap=\"coolwarm\")\n",
    "plt.xlabel(\"Category\")\n",
    "plt.ylabel(\"Count\")\n",
    "plt.title(\"Best-Seller Status Across Top 5 Categories\")\n",
    "plt.legend(title=\"Is Best Seller\")\n",
    "plt.grid(axis=\"y\", linestyle=\"--\", alpha=0.5)\n",
    "\n",
    "plt.show()"
   ]
  },
  {
   "cell_type": "code",
   "execution_count": null,
   "id": "83efe830-dd4e-43a0-8f82-4eafdce967d7",
   "metadata": {},
   "outputs": [],
   "source": [
    "# 2.0. Exploring Product Prices and Ratings Across Categories and Brands\n",
    "# Preliminary Step: Remove outliers in product prices."
   ]
  },
  {
   "cell_type": "code",
   "execution_count": 63,
   "id": "493117b5-b1b3-42cb-b25c-38b0ed8d9404",
   "metadata": {},
   "outputs": [],
   "source": [
    "def tukeys_test_outliers(data):\n",
    "    Q1 = data[\"price\"].quantile(0.25)\n",
    "    Q3 = data[\"price\"].quantile(0.75)\n",
    "    IQR = Q3 - Q1\n",
    "    \n",
    "    lower_whisker = Q1 - 1.5 * IQR\n",
    "    upper_whisker = Q3 + 1.5 * IQR\n",
    "    \n",
    "    no_outliers = data[(data[\"price\"] > lower_whisker) & (data[\"price\"] < upper_whisker)]\n",
    "    \n",
    "    return no_outliers"
   ]
  },
  {
   "cell_type": "code",
   "execution_count": 65,
   "id": "d33e09a5-5f21-4c0b-b7a5-c7cb338cc2b9",
   "metadata": {},
   "outputs": [],
   "source": [
    "# Apply tukey's\n",
    "no_outliers = tukeys_test_outliers(df)"
   ]
  },
  {
   "cell_type": "code",
   "execution_count": 73,
   "id": "7179791f-0f97-47e6-9653-1b28e05bf229",
   "metadata": {},
   "outputs": [
    {
     "data": {
      "image/png": "[encoded data removed]",
      "text/plain": [
       "<Figure size 640x480 with 1 Axes>"
      ]
     },
     "metadata": {},
     "output_type": "display_data"
    }
   ],
   "source": [
    "no_outliers[\"price\"].hist()\n",
    "plt.show()"
   ]
  },
  {
   "cell_type": "code",
   "execution_count": null,
   "id": "b4903f37-bce4-4e1b-af87-2bedebef8f03",
   "metadata": {},
   "outputs": [],
   "source": [
    "# Tukey's test, IQR method\n",
    "def remove_outliers(data):\n",
    "    Q1 = data.quantile(0.25)\n",
    "    Q3 = data.quantile(0.75)\n",
    "    IQR = Q3 - Q1\n",
    "    \n",
    "    lower_whisker = Q1 - 1.5 * IQR\n",
    "    upper_whisker = Q3 + 1.5 * IQR\n",
    "    \n",
    "    cleaned_data = data[(data >= lower_whisker) & (data <= upper_whisker)]\n",
    "    \n",
    "    return cleaned_data"
   ]
  },
  {
   "cell_type": "code",
   "execution_count": null,
   "id": "9116b637-3038-4701-9b8c-83a16744c0f3",
   "metadata": {},
   "outputs": [],
   "source": [
    "# Apply to prices\n",
    "data_series = df[\"price\"]\n",
    "cleaned_prices = remove_outliers(data_series)"
   ]
  },
  {
   "cell_type": "code",
   "execution_count": null,
   "id": "f947aaff-a7fb-4e8c-bf50-9c1a31d5926f",
   "metadata": {},
   "outputs": [],
   "source": [
    "cleaned_prices"
   ]
  },
  {
   "cell_type": "code",
   "execution_count": null,
   "id": "961176ec-9e30-4e4f-8012-539e136173fd",
   "metadata": {},
   "outputs": [],
   "source": [
    "sorted_df_prices = df.sort_values(by=\"price\", ascending=False)"
   ]
  },
  {
   "cell_type": "code",
   "execution_count": null,
   "id": "9c6afbd9-c9c9-4336-9d51-ab71b22c10c6",
   "metadata": {},
   "outputs": [],
   "source": [
    "sorted_df_prices.head(10)"
   ]
  },
  {
   "cell_type": "code",
   "execution_count": 83,
   "id": "024e8d04-3364-4974-aae6-b46c757ba626",
   "metadata": {},
   "outputs": [],
   "source": [
    "# 2.1.1. Violin Plots: Use a violin plot to visualize the distribution of price across different product categories. Filter out the top 20 categories based on count for better visualization.\n",
    "\n",
    "# top 20 categories\n",
    "top_categories = no_outliers[\"category\"].value_counts().sort_values(ascending=False).head(20).index"
   ]
  },
  {
   "cell_type": "code",
   "execution_count": 85,
   "id": "b8e7ce74-81dc-4aaa-b2f8-c894e92b3d0e",
   "metadata": {},
   "outputs": [],
   "source": [
    "# filter df for top 20\n",
    "filtered_df_top_categories = no_outliers[no_outliers[\"category\"].apply(lambda x: x in top_categories)]"
   ]
  },
  {
   "cell_type": "code",
   "execution_count": 87,
   "id": "e58adc10-45c8-4c57-b9c8-22e3ff5d5543",
   "metadata": {},
   "outputs": [
    {
     "data": {
      "image/png": "[encoded data removed]",
      "text/plain": [
       "<Figure size 1200x600 with 1 Axes>"
      ]
     },
     "metadata": {},
     "output_type": "display_data"
    }
   ],
   "source": [
    "# violin plot\n",
    "plt.figure(figsize=(12, 6))\n",
    "sns.violinplot(x=\"category\", y=\"price\", data=filtered_df_top_categories)\n",
    "plt.xticks(rotation=90)\n",
    "plt.title(\"Price Distribution Across Top 20 Categories\")\n",
    "plt.show()"
   ]
  },
  {
   "cell_type": "code",
   "execution_count": null,
   "id": "bea11326-8e2d-4bd4-a73c-4bd55e55d544",
   "metadata": {},
   "outputs": [],
   "source": [
    "# 2.1.2. Which product category tends to have the highest median price? Don't filter here by top categories"
   ]
  },
  {
   "cell_type": "code",
   "execution_count": null,
   "id": "8048373d-bcdb-4ce3-bbd1-049679a6aa05",
   "metadata": {},
   "outputs": [],
   "source": [
    "category_medians = df.groupby(\"category\")[\"price\"].median()"
   ]
  },
  {
   "cell_type": "code",
   "execution_count": null,
   "id": "e2370576-8305-4820-a55f-31703f0df504",
   "metadata": {},
   "outputs": [],
   "source": [
    "category_medians"
   ]
  },
  {
   "cell_type": "code",
   "execution_count": null,
   "id": "ce999323-4e54-407f-a387-fe7463d032a4",
   "metadata": {},
   "outputs": [],
   "source": [
    "highest_median_category = category_medians.idxmax()\n",
    "highest_median_price = category_medians.max()"
   ]
  },
  {
   "cell_type": "code",
   "execution_count": null,
   "id": "d167b1f2-f947-4cee-a827-ba539a689d27",
   "metadata": {},
   "outputs": [],
   "source": [
    "highest_median_category"
   ]
  },
  {
   "cell_type": "code",
   "execution_count": null,
   "id": "2b04ca2a-2c3a-4ceb-8444-76f26b211245",
   "metadata": {},
   "outputs": [],
   "source": [
    "highest_median_price"
   ]
  },
  {
   "cell_type": "code",
   "execution_count": null,
   "id": "aa3c2ad2-248e-4f76-9881-05baf2f7951a",
   "metadata": {},
   "outputs": [],
   "source": [
    "# 2.2.1. Bar Charts: Create a bar chart comparing the average price of products for the top 10 product categories (based on count)."
   ]
  },
  {
   "cell_type": "code",
   "execution_count": 127,
   "id": "fc191f45-0fd7-4531-9ba8-33880f60af0a",
   "metadata": {},
   "outputs": [],
   "source": [
    "# top 10 categories, count\n",
    "top_10_categories = no_outliers[\"category\"].value_counts().sort_values(ascending=False).head(10).index"
   ]
  },
  {
   "cell_type": "code",
   "execution_count": 109,
   "id": "77191315-e688-475c-a808-a1485afff7da",
   "metadata": {},
   "outputs": [
    {
     "data": {
      "text/plain": [
       "category\n",
       "Sports & Outdoors                         694092\n",
       "Beauty                                     19233\n",
       "Bath & Body                                19050\n",
       "Manicure & Pedicure Products               18904\n",
       "Handmade Clothing, Shoes & Accessories     18811\n",
       "                                           ...  \n",
       "Home Entertainment                            57\n",
       "Smart Speakers                                49\n",
       "Alexa Built-In Devices                        39\n",
       "3D Printers                                   36\n",
       "Motorbike Exhaust & Exhaust Systems           28\n",
       "Name: count, Length: 296, dtype: int64"
      ]
     },
     "execution_count": 109,
     "metadata": {},
     "output_type": "execute_result"
    }
   ],
   "source": [
    "# top 10 categories, count\n",
    "top_10_categories = no_outliers[\"category\"].value_counts().sort_values(ascending=False)\n",
    "top_10_categories"
   ]
  },
  {
   "cell_type": "code",
   "execution_count": 129,
   "id": "2295e408-ed8b-4728-b919-b16eb8f152b8",
   "metadata": {},
   "outputs": [],
   "source": [
    "# filter df for top 10\n",
    "filtered_df_top_10_categories = no_outliers[no_outliers[\"category\"].isin(top_10_categories)]"
   ]
  },
  {
   "cell_type": "code",
   "execution_count": 131,
   "id": "e0e862f0-894d-4304-85a3-2a33b64e02e9",
   "metadata": {},
   "outputs": [],
   "source": [
    "# avg price per category\n",
    "avg_price_per_category = filtered_df_top_10_categories.groupby(\"category\")[\"price\"].mean()"
   ]
  },
  {
   "cell_type": "code",
   "execution_count": 133,
   "id": "c1d39cf1-6487-4477-8471-621f01ddd631",
   "metadata": {},
   "outputs": [
    {
     "data": {
      "image/png": "[encoded data removed]",
      "text/plain": [
       "<Figure size 1000x500 with 1 Axes>"
      ]
     },
     "metadata": {},
     "output_type": "display_data"
    },
    {
     "data": {
      "image/png": "[encoded data removed]",
      "text/plain": [
       "<Figure size 1000x500 with 1 Axes>"
      ]
     },
     "metadata": {},
     "output_type": "display_data"
    }
   ],
   "source": [
    "# bar chart\n",
    "plt.figure(figsize=(10, 5))\n",
    "avg_price_per_category.sort_values(ascending=False).plot(kind=\"bar\", color=\"skyblue\")\n",
    "plt.xlabel(\"Product Category\")\n",
    "plt.ylabel(\"Average Price\")\n",
    "plt.title(\"Average Price of Products in Top 10 Categories\")\n",
    "plt.grid(axis=\"y\", linestyle=\"--\", alpha=0.7)\n",
    "\n",
    "plt.show()"
   ]
  },
  {
   "cell_type": "code",
   "execution_count": null,
   "id": "39f345fe-953e-4356-8241-31aada824af6",
   "metadata": {},
   "outputs": [],
   "source": [
    "# 2.2.2. Which product category commands the highest average price? Don't filter here by top categories."
   ]
  },
  {
   "cell_type": "code",
   "execution_count": null,
   "id": "e97e4860-fd20-4608-b9bd-a96bfeb6c889",
   "metadata": {},
   "outputs": [],
   "source": []
  },
  {
   "cell_type": "code",
   "execution_count": 135,
   "id": "c68b6d9e-3e5b-4df2-8149-14195d0f7d5f",
   "metadata": {},
   "outputs": [],
   "source": [
    "# product rating filtering out ratings under 1"
   ]
  },
  {
   "cell_type": "code",
   "execution_count": 141,
   "id": "3226a53c-8f1d-46cf-b322-1dfeef3cc46e",
   "metadata": {},
   "outputs": [],
   "source": [
    "no_outliers = df[df[\"stars\"] > 0]"
   ]
  },
  {
   "cell_type": "code",
   "execution_count": null,
   "id": "6a30511f-e8e0-46ca-b93c-c8d7954e8d0a",
   "metadata": {},
   "outputs": [],
   "source": [
    "df_top10 = df[\"stars\"] > 0]"
   ]
  },
  {
   "cell_type": "code",
   "execution_count": 145,
   "id": "ea5a4560-c804-4862-8d34-233a4e77480f",
   "metadata": {},
   "outputs": [
    {
     "ename": "AttributeError",
     "evalue": "Text.set() got an unexpected keyword argument 'how'",
     "output_type": "error",
     "traceback": [
      "\u001b[1;31m---------------------------------------------------------------------------\u001b[0m",
      "\u001b[1;31mAttributeError\u001b[0m                            Traceback (most recent call last)",
      "Cell \u001b[1;32mIn[145], line 2\u001b[0m\n\u001b[0;32m      1\u001b[0m sns\u001b[38;5;241m.\u001b[39mboxplot(no_outliers, x\u001b[38;5;241m=\u001b[39m\u001b[38;5;124m\"\u001b[39m\u001b[38;5;124mcategory\u001b[39m\u001b[38;5;124m\"\u001b[39m, y\u001b[38;5;241m=\u001b[39m\u001b[38;5;124m\"\u001b[39m\u001b[38;5;124mstars\u001b[39m\u001b[38;5;124m\"\u001b[39m)\n\u001b[1;32m----> 2\u001b[0m plt\u001b[38;5;241m.\u001b[39mxticks(rotation\u001b[38;5;241m=\u001b[39m\u001b[38;5;241m45\u001b[39m, how\u001b[38;5;241m=\u001b[39m\u001b[38;5;124m\"\u001b[39m\u001b[38;5;124mright\u001b[39m\u001b[38;5;124m\"\u001b[39m)\n\u001b[0;32m      3\u001b[0m plt\u001b[38;5;241m.\u001b[39mshow()\n",
      "File \u001b[1;32m~\\anaconda3\\Lib\\site-packages\\matplotlib\\pyplot.py:2227\u001b[0m, in \u001b[0;36mxticks\u001b[1;34m(ticks, labels, minor, **kwargs)\u001b[0m\n\u001b[0;32m   2225\u001b[0m     labels_out \u001b[38;5;241m=\u001b[39m ax\u001b[38;5;241m.\u001b[39mget_xticklabels(minor\u001b[38;5;241m=\u001b[39mminor)\n\u001b[0;32m   2226\u001b[0m     \u001b[38;5;28;01mfor\u001b[39;00m l \u001b[38;5;129;01min\u001b[39;00m labels_out:\n\u001b[1;32m-> 2227\u001b[0m         l\u001b[38;5;241m.\u001b[39m_internal_update(kwargs)\n\u001b[0;32m   2228\u001b[0m \u001b[38;5;28;01melse\u001b[39;00m:\n\u001b[0;32m   2229\u001b[0m     labels_out \u001b[38;5;241m=\u001b[39m ax\u001b[38;5;241m.\u001b[39mset_xticklabels(labels, minor\u001b[38;5;241m=\u001b[39mminor, \u001b[38;5;241m*\u001b[39m\u001b[38;5;241m*\u001b[39mkwargs)\n",
      "File \u001b[1;32m~\\anaconda3\\Lib\\site-packages\\matplotlib\\artist.py:1216\u001b[0m, in \u001b[0;36mArtist._internal_update\u001b[1;34m(self, kwargs)\u001b[0m\n\u001b[0;32m   1209\u001b[0m \u001b[38;5;28;01mdef\u001b[39;00m \u001b[38;5;21m_internal_update\u001b[39m(\u001b[38;5;28mself\u001b[39m, kwargs):\n\u001b[0;32m   1210\u001b[0m \u001b[38;5;250m    \u001b[39m\u001b[38;5;124;03m\"\"\"\u001b[39;00m\n\u001b[0;32m   1211\u001b[0m \u001b[38;5;124;03m    Update artist properties without prenormalizing them, but generating\u001b[39;00m\n\u001b[0;32m   1212\u001b[0m \u001b[38;5;124;03m    errors as if calling `set`.\u001b[39;00m\n\u001b[0;32m   1213\u001b[0m \n\u001b[0;32m   1214\u001b[0m \u001b[38;5;124;03m    The lack of prenormalization is to maintain backcompatibility.\u001b[39;00m\n\u001b[0;32m   1215\u001b[0m \u001b[38;5;124;03m    \"\"\"\u001b[39;00m\n\u001b[1;32m-> 1216\u001b[0m     \u001b[38;5;28;01mreturn\u001b[39;00m \u001b[38;5;28mself\u001b[39m\u001b[38;5;241m.\u001b[39m_update_props(\n\u001b[0;32m   1217\u001b[0m         kwargs, \u001b[38;5;124m\"\u001b[39m\u001b[38;5;132;01m{cls.__name__}\u001b[39;00m\u001b[38;5;124m.set() got an unexpected keyword argument \u001b[39m\u001b[38;5;124m\"\u001b[39m\n\u001b[0;32m   1218\u001b[0m         \u001b[38;5;124m\"\u001b[39m\u001b[38;5;132;01m{prop_name!r}\u001b[39;00m\u001b[38;5;124m\"\u001b[39m)\n",
      "File \u001b[1;32m~\\anaconda3\\Lib\\site-packages\\matplotlib\\artist.py:1190\u001b[0m, in \u001b[0;36mArtist._update_props\u001b[1;34m(self, props, errfmt)\u001b[0m\n\u001b[0;32m   1188\u001b[0m             func \u001b[38;5;241m=\u001b[39m \u001b[38;5;28mgetattr\u001b[39m(\u001b[38;5;28mself\u001b[39m, \u001b[38;5;124mf\u001b[39m\u001b[38;5;124m\"\u001b[39m\u001b[38;5;124mset_\u001b[39m\u001b[38;5;132;01m{\u001b[39;00mk\u001b[38;5;132;01m}\u001b[39;00m\u001b[38;5;124m\"\u001b[39m, \u001b[38;5;28;01mNone\u001b[39;00m)\n\u001b[0;32m   1189\u001b[0m             \u001b[38;5;28;01mif\u001b[39;00m \u001b[38;5;129;01mnot\u001b[39;00m \u001b[38;5;28mcallable\u001b[39m(func):\n\u001b[1;32m-> 1190\u001b[0m                 \u001b[38;5;28;01mraise\u001b[39;00m \u001b[38;5;167;01mAttributeError\u001b[39;00m(\n\u001b[0;32m   1191\u001b[0m                     errfmt\u001b[38;5;241m.\u001b[39mformat(\u001b[38;5;28mcls\u001b[39m\u001b[38;5;241m=\u001b[39m\u001b[38;5;28mtype\u001b[39m(\u001b[38;5;28mself\u001b[39m), prop_name\u001b[38;5;241m=\u001b[39mk))\n\u001b[0;32m   1192\u001b[0m             ret\u001b[38;5;241m.\u001b[39mappend(func(v))\n\u001b[0;32m   1193\u001b[0m \u001b[38;5;28;01mif\u001b[39;00m ret:\n",
      "\u001b[1;31mAttributeError\u001b[0m: Text.set() got an unexpected keyword argument 'how'"
     ]
    }
   ],
   "source": [
    "sns.boxplot(no_outliers, x=\"category\", y=\"stars\")\n",
    "plt.xticks(rotation=45, how=\"right\")\n",
    "plt.show()"
   ]
  },
  {
   "cell_type": "code",
   "execution_count": null,
   "id": "20ab7aa0-eb5d-498d-86e7-835ea04d99ab",
   "metadata": {},
   "outputs": [],
   "source": [
    "# Correlation coefficient is very low."
   ]
  },
  {
   "cell_type": "code",
   "execution_count": 147,
   "id": "5f3e594d-2848-474c-a096-90909559364d",
   "metadata": {},
   "outputs": [],
   "source": [
    "# QQ plot of product prices"
   ]
  },
  {
   "cell_type": "code",
   "execution_count": 149,
   "id": "4346f0a5-96c6-4ddb-9412-63f654c8bfb4",
   "metadata": {},
   "outputs": [],
   "source": [
    "# NOT DONE"
   ]
  },
  {
   "cell_type": "code",
   "execution_count": 151,
   "id": "ddedfd98-f397-4a1d-85c8-05cc046efd66",
   "metadata": {},
   "outputs": [],
   "source": [
    "# tHE closer to a normal distribution the more values from QQ would be on the red line."
   ]
  },
  {
   "cell_type": "code",
   "execution_count": null,
   "id": "7b69dced-c969-47e7-95c7-85d700ae4250",
   "metadata": {},
   "outputs": [],
   "source": []
  }
 ],
 "metadata": {
  "kernelspec": {
   "display_name": "Python [conda env:base] *",
   "language": "python",
   "name": "conda-base-py"
  },
  "language_info": {
   "codemirror_mode": {
    "name": "ipython",
    "version": 3
   },
   "file_extension": ".py",
   "mimetype": "text/x-python",
   "name": "python",
   "nbconvert_exporter": "python",
   "pygments_lexer": "ipython3",
   "version": "3.12.7"
  }
 },
 "nbformat": 4,
 "nbformat_minor": 5
}
